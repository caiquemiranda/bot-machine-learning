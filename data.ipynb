{
 "cells": [
  {
   "cell_type": "code",
   "execution_count": 3,
   "metadata": {},
   "outputs": [],
   "source": [
    "import yfinance as yf\n",
    "import pandas as pd"
   ]
  },
  {
   "cell_type": "code",
   "execution_count": 4,
   "metadata": {},
   "outputs": [],
   "source": [
    "# Y-m-d\n",
    "start = '2013-01-01'\n",
    "end = '2023-09-01'"
   ]
  },
  {
   "cell_type": "code",
   "execution_count": 3,
   "metadata": {},
   "outputs": [
    {
     "name": "stdout",
     "output_type": "stream",
     "text": [
      "[*********************100%***********************]  1 of 1 completed\n"
     ]
    }
   ],
   "source": [
    "stock = yf.download('VALE', \n",
    "                   start=start, \n",
    "                   end=end)"
   ]
  },
  {
   "cell_type": "code",
   "execution_count": 4,
   "metadata": {},
   "outputs": [],
   "source": [
    "stock.to_csv('data/data.csv')"
   ]
  },
  {
   "cell_type": "code",
   "execution_count": 16,
   "metadata": {},
   "outputs": [],
   "source": [
    "# Y-m-d\n",
    "start = '2023-08-15'\n",
    "end = '2023-10-13'"
   ]
  },
  {
   "cell_type": "code",
   "execution_count": 17,
   "metadata": {},
   "outputs": [
    {
     "name": "stdout",
     "output_type": "stream",
     "text": [
      "[*********************100%***********************]  1 of 1 completed\n",
      "\n",
      "1 Failed download:\n",
      "- VALE: 15m data not available for startTime=1692072000 and endTime=1697169600. The requested range must be within the last 60 days.\n"
     ]
    }
   ],
   "source": [
    "stock = yf.download('VALE', \n",
    "                   start=start,\n",
    "                   interval='15m', \n",
    "                   end=end)"
   ]
  },
  {
   "cell_type": "code",
   "execution_count": 9,
   "metadata": {},
   "outputs": [
    {
     "data": {
      "text/html": [
       "<div>\n",
       "<style scoped>\n",
       "    .dataframe tbody tr th:only-of-type {\n",
       "        vertical-align: middle;\n",
       "    }\n",
       "\n",
       "    .dataframe tbody tr th {\n",
       "        vertical-align: top;\n",
       "    }\n",
       "\n",
       "    .dataframe thead th {\n",
       "        text-align: right;\n",
       "    }\n",
       "</style>\n",
       "<table border=\"1\" class=\"dataframe\">\n",
       "  <thead>\n",
       "    <tr style=\"text-align: right;\">\n",
       "      <th></th>\n",
       "      <th>Open</th>\n",
       "      <th>High</th>\n",
       "      <th>Low</th>\n",
       "      <th>Close</th>\n",
       "      <th>Adj Close</th>\n",
       "      <th>Volume</th>\n",
       "    </tr>\n",
       "    <tr>\n",
       "      <th>Date</th>\n",
       "      <th></th>\n",
       "      <th></th>\n",
       "      <th></th>\n",
       "      <th></th>\n",
       "      <th></th>\n",
       "      <th></th>\n",
       "    </tr>\n",
       "  </thead>\n",
       "  <tbody>\n",
       "    <tr>\n",
       "      <th>2023-01-03</th>\n",
       "      <td>16.650000</td>\n",
       "      <td>16.719999</td>\n",
       "      <td>16.299999</td>\n",
       "      <td>16.350000</td>\n",
       "      <td>15.502455</td>\n",
       "      <td>25585700</td>\n",
       "    </tr>\n",
       "    <tr>\n",
       "      <th>2023-01-04</th>\n",
       "      <td>16.230000</td>\n",
       "      <td>16.549999</td>\n",
       "      <td>16.049999</td>\n",
       "      <td>16.549999</td>\n",
       "      <td>15.692086</td>\n",
       "      <td>34623700</td>\n",
       "    </tr>\n",
       "    <tr>\n",
       "      <th>2023-01-05</th>\n",
       "      <td>16.580000</td>\n",
       "      <td>17.100000</td>\n",
       "      <td>16.549999</td>\n",
       "      <td>17.090000</td>\n",
       "      <td>16.204094</td>\n",
       "      <td>28418500</td>\n",
       "    </tr>\n",
       "    <tr>\n",
       "      <th>2023-01-06</th>\n",
       "      <td>17.389999</td>\n",
       "      <td>17.680000</td>\n",
       "      <td>17.190001</td>\n",
       "      <td>17.660000</td>\n",
       "      <td>16.744545</td>\n",
       "      <td>31231000</td>\n",
       "    </tr>\n",
       "    <tr>\n",
       "      <th>2023-01-09</th>\n",
       "      <td>17.459999</td>\n",
       "      <td>17.639999</td>\n",
       "      <td>17.320000</td>\n",
       "      <td>17.520000</td>\n",
       "      <td>16.611805</td>\n",
       "      <td>22693900</td>\n",
       "    </tr>\n",
       "    <tr>\n",
       "      <th>...</th>\n",
       "      <td>...</td>\n",
       "      <td>...</td>\n",
       "      <td>...</td>\n",
       "      <td>...</td>\n",
       "      <td>...</td>\n",
       "      <td>...</td>\n",
       "    </tr>\n",
       "    <tr>\n",
       "      <th>2023-08-25</th>\n",
       "      <td>12.770000</td>\n",
       "      <td>12.830000</td>\n",
       "      <td>12.650000</td>\n",
       "      <td>12.740000</td>\n",
       "      <td>12.740000</td>\n",
       "      <td>13184800</td>\n",
       "    </tr>\n",
       "    <tr>\n",
       "      <th>2023-08-28</th>\n",
       "      <td>12.810000</td>\n",
       "      <td>12.950000</td>\n",
       "      <td>12.760000</td>\n",
       "      <td>12.920000</td>\n",
       "      <td>12.920000</td>\n",
       "      <td>9681400</td>\n",
       "    </tr>\n",
       "    <tr>\n",
       "      <th>2023-08-29</th>\n",
       "      <td>12.990000</td>\n",
       "      <td>13.380000</td>\n",
       "      <td>12.930000</td>\n",
       "      <td>13.330000</td>\n",
       "      <td>13.330000</td>\n",
       "      <td>21719400</td>\n",
       "    </tr>\n",
       "    <tr>\n",
       "      <th>2023-08-30</th>\n",
       "      <td>13.430000</td>\n",
       "      <td>13.460000</td>\n",
       "      <td>13.250000</td>\n",
       "      <td>13.330000</td>\n",
       "      <td>13.330000</td>\n",
       "      <td>10979000</td>\n",
       "    </tr>\n",
       "    <tr>\n",
       "      <th>2023-08-31</th>\n",
       "      <td>13.360000</td>\n",
       "      <td>13.420000</td>\n",
       "      <td>13.150000</td>\n",
       "      <td>13.170000</td>\n",
       "      <td>13.170000</td>\n",
       "      <td>15771800</td>\n",
       "    </tr>\n",
       "  </tbody>\n",
       "</table>\n",
       "<p>167 rows × 6 columns</p>\n",
       "</div>"
      ],
      "text/plain": [
       "                 Open       High        Low      Close  Adj Close    Volume\n",
       "Date                                                                       \n",
       "2023-01-03  16.650000  16.719999  16.299999  16.350000  15.502455  25585700\n",
       "2023-01-04  16.230000  16.549999  16.049999  16.549999  15.692086  34623700\n",
       "2023-01-05  16.580000  17.100000  16.549999  17.090000  16.204094  28418500\n",
       "2023-01-06  17.389999  17.680000  17.190001  17.660000  16.744545  31231000\n",
       "2023-01-09  17.459999  17.639999  17.320000  17.520000  16.611805  22693900\n",
       "...               ...        ...        ...        ...        ...       ...\n",
       "2023-08-25  12.770000  12.830000  12.650000  12.740000  12.740000  13184800\n",
       "2023-08-28  12.810000  12.950000  12.760000  12.920000  12.920000   9681400\n",
       "2023-08-29  12.990000  13.380000  12.930000  13.330000  13.330000  21719400\n",
       "2023-08-30  13.430000  13.460000  13.250000  13.330000  13.330000  10979000\n",
       "2023-08-31  13.360000  13.420000  13.150000  13.170000  13.170000  15771800\n",
       "\n",
       "[167 rows x 6 columns]"
      ]
     },
     "execution_count": 9,
     "metadata": {},
     "output_type": "execute_result"
    }
   ],
   "source": [
    "stock"
   ]
  },
  {
   "cell_type": "code",
   "execution_count": 22,
   "metadata": {},
   "outputs": [
    {
     "name": "stdout",
     "output_type": "stream",
     "text": [
      "                                 Open        High         Low       Close  \\\n",
      "Datetime                                                                    \n",
      "2023-09-01 09:30:00-04:00  189.485001  189.919998  188.335007  188.979004   \n",
      "2023-09-01 09:45:00-04:00  188.979996  188.979996  188.279999  188.940002   \n",
      "2023-09-01 10:00:00-04:00  188.919998  189.490005  188.399994  189.240005   \n",
      "2023-09-01 10:15:00-04:00  189.240005  189.410004  188.940002  189.279999   \n",
      "2023-09-01 10:30:00-04:00  189.270004  189.279999  188.820007  189.100006   \n",
      "...                               ...         ...         ...         ...   \n",
      "2023-10-13 14:45:00-04:00  179.104996  179.404999  178.968796  179.339905   \n",
      "2023-10-13 15:00:00-04:00  179.330002  179.740005  179.089996  179.468903   \n",
      "2023-10-13 15:15:00-04:00  179.460007  179.470001  178.850006  178.934998   \n",
      "2023-10-13 15:30:00-04:00  178.940002  179.059998  178.520004  178.610001   \n",
      "2023-10-13 15:45:00-04:00  178.610001  179.089996  178.589996  178.869995   \n",
      "\n",
      "                            Volume  Dividends  Stock Splits  \n",
      "Datetime                                                     \n",
      "2023-09-01 09:30:00-04:00  5046070        0.0           0.0  \n",
      "2023-09-01 09:45:00-04:00  2681980        0.0           0.0  \n",
      "2023-09-01 10:00:00-04:00  2559828        0.0           0.0  \n",
      "2023-09-01 10:15:00-04:00  1954224        0.0           0.0  \n",
      "2023-09-01 10:30:00-04:00  1496877        0.0           0.0  \n",
      "...                            ...        ...           ...  \n",
      "2023-10-13 14:45:00-04:00  1309908        0.0           0.0  \n",
      "2023-10-13 15:00:00-04:00  1417715        0.0           0.0  \n",
      "2023-10-13 15:15:00-04:00  1493039        0.0           0.0  \n",
      "2023-10-13 15:30:00-04:00  1687781        0.0           0.0  \n",
      "2023-10-13 15:45:00-04:00  4047663        0.0           0.0  \n",
      "\n",
      "[780 rows x 7 columns]\n"
     ]
    }
   ],
   "source": [
    "symbol = 'AAPL'\n",
    "\n",
    "start_date = '2023-09-01'\n",
    "end_date = '2023-10-31'\n",
    "\n",
    "ticker = yf.Ticker(symbol)\n",
    "\n",
    "data = ticker.history(start=start_date, end=end_date, interval=\"15m\")\n",
    "\n",
    "data"
   ]
  },
  {
   "cell_type": "code",
   "execution_count": 24,
   "metadata": {},
   "outputs": [],
   "source": [
    "data.to_csv('data/data_m15.csv')"
   ]
  }
 ],
 "metadata": {
  "kernelspec": {
   "display_name": "Python 3",
   "language": "python",
   "name": "python3"
  },
  "language_info": {
   "codemirror_mode": {
    "name": "ipython",
    "version": 3
   },
   "file_extension": ".py",
   "mimetype": "text/x-python",
   "name": "python",
   "nbconvert_exporter": "python",
   "pygments_lexer": "ipython3",
   "version": "3.10.5"
  },
  "orig_nbformat": 4
 },
 "nbformat": 4,
 "nbformat_minor": 2
}
